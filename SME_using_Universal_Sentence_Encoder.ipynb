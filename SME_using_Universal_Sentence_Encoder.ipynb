{
  "nbformat": 4,
  "nbformat_minor": 0,
  "metadata": {
    "colab": {
      "provenance": []
    },
    "kernelspec": {
      "name": "python3",
      "display_name": "Python 3"
    },
    "language_info": {
      "name": "python"
    },
    "accelerator": "TPU"
  },
  "cells": [
    {
      "cell_type": "code",
      "execution_count": null,
      "metadata": {
        "id": "89hNOyB2SEwL"
      },
      "outputs": [],
      "source": [
        "!pip install langchain\n",
        "!pip install faiss-cpu"
      ]
    },
    {
      "cell_type": "code",
      "source": [
        "from sklearn.svm import SVC\n",
        "from sklearn.model_selection import train_test_split\n",
        "from sklearn.metrics import accuracy_score, classification_report\n",
        "from sklearn.preprocessing import LabelEncoder\n",
        "from tensorflow.keras.models import Sequential\n",
        "from tensorflow.keras.layers import Dense, Dropout, BatchNormalization\n",
        "from tensorflow.keras.regularizers import l2\n",
        "from tensorflow.keras.utils import to_categorical\n",
        "import tensorflow as tf\n",
        "import tensorflow_hub as hub\n",
        "\n",
        "from sklearn.model_selection import GridSearchCV, train_test_split, StratifiedKFold\n",
        "import pandas as pd"
      ],
      "metadata": {
        "id": "D9S3V7gBSQvs"
      },
      "execution_count": 8,
      "outputs": []
    },
    {
      "cell_type": "code",
      "source": [
        "saas_data = \"GPT based triaging.txt\"\n",
        "\n",
        "requests, teams = [], []\n",
        "\n",
        "with open(saas_data, \"r\") as file:\n",
        "    lines = file.readlines()\n",
        "    for line in lines:\n",
        "        if line.startswith(\"Request:\"):\n",
        "            request = line.split(\"Request:\", 1)[1].strip()\n",
        "            request = request.strip('\"') # This line removes the quotation marks\n",
        "            requests.append(request)\n",
        "        elif line.startswith(\"Team:\"):\n",
        "            teams.append(line.split(\"Team:\", 1)[1].strip())\n",
        "\n",
        "df = pd.DataFrame({\n",
        "    'Request': requests,\n",
        "    'Team': teams\n",
        "})\n",
        "\n",
        "df['Team'].value_counts()"
      ],
      "metadata": {
        "colab": {
          "base_uri": "https://localhost:8080/"
        },
        "id": "FHznqkDDSRDu",
        "outputId": "2f0a3687-6632-4d9a-a0b5-10b8d70bd295"
      },
      "execution_count": 4,
      "outputs": [
        {
          "output_type": "execute_result",
          "data": {
            "text/plain": [
              "Support Team                460\n",
              "Finance Team                459\n",
              "Product Development Team    458\n",
              "Sales Team                   17\n",
              "Training Team                 6\n",
              "Marketing Team                5\n",
              "Legal Team                    5\n",
              "Security Team                 4\n",
              "IT Operations Team            4\n",
              "Implementation Team           2\n",
              "Finance                       1\n",
              "Name: Team, dtype: int64"
            ]
          },
          "metadata": {},
          "execution_count": 4
        }
      ]
    },
    {
      "cell_type": "code",
      "source": [
        "df = df[(df['Team'] == 'Support Team') | (df['Team'] == 'Finance Team') | (df['Team'] == 'Product Development Team')]\n",
        "df['Team'].value_counts()"
      ],
      "metadata": {
        "colab": {
          "base_uri": "https://localhost:8080/"
        },
        "id": "WAblqbWPSmzo",
        "outputId": "0522aa37-5b15-40dc-dd14-f1d4c4db5dfe"
      },
      "execution_count": 5,
      "outputs": [
        {
          "output_type": "execute_result",
          "data": {
            "text/plain": [
              "Support Team                460\n",
              "Finance Team                459\n",
              "Product Development Team    458\n",
              "Name: Team, dtype: int64"
            ]
          },
          "metadata": {},
          "execution_count": 5
        }
      ]
    },
    {
      "cell_type": "code",
      "source": [
        "module_url = \"https://tfhub.dev/google/universal-sentence-encoder/4\"\n",
        "use_model = hub.load(module_url)"
      ],
      "metadata": {
        "id": "ZJVnG_9SSslq"
      },
      "execution_count": 6,
      "outputs": []
    },
    {
      "cell_type": "code",
      "source": [
        "X = df['Request']\n",
        "y = df['Team']\n",
        "\n",
        "X_train, X_test, y_train, y_test = train_test_split(X, y, test_size=0.1, random_state=42)\n",
        "X_train.iloc[2]"
      ],
      "metadata": {
        "colab": {
          "base_uri": "https://localhost:8080/",
          "height": 35
        },
        "id": "cUh_Dg_mSvaW",
        "outputId": "faf56cb2-1b4e-43ca-ddbd-b31c7118c479"
      },
      "execution_count": 10,
      "outputs": [
        {
          "output_type": "execute_result",
          "data": {
            "text/plain": [
              "\"We've identified a need for additional data visualization options within the software. Can you explore adding more chart types?\""
            ],
            "application/vnd.google.colaboratory.intrinsic+json": {
              "type": "string"
            }
          },
          "metadata": {},
          "execution_count": 10
        }
      ]
    },
    {
      "cell_type": "code",
      "source": [
        "from langchain.docstore.document import Document\n",
        "documents = []\n",
        "\n",
        "for index in range(len(X_train)):\n",
        "    documents.append(Document(page_content=X_train.iloc[index], metadata={'source': y_train.iloc[index]}))\n",
        "\n",
        "documents"
      ],
      "metadata": {
        "id": "sUr_b8ChS5Z9"
      },
      "execution_count": null,
      "outputs": []
    },
    {
      "cell_type": "code",
      "source": [
        "from langchain.docstore.document import Document\n",
        "import faiss\n",
        "import numpy as np\n",
        "\n",
        "# Convert the content of each Document to embeddings\n",
        "doc_embeddings = use_model([doc.page_content for doc in documents])\n",
        "\n",
        "# Convert embeddings to a format FAISS can work with (float32)\n",
        "doc_embeddings = doc_embeddings.numpy().astype('float32')\n",
        "\n",
        "# Create a FAISS index\n",
        "index = faiss.IndexFlatL2(doc_embeddings.shape[1])\n",
        "index.add(doc_embeddings)"
      ],
      "metadata": {
        "id": "QkyIRKG_TFRZ"
      },
      "execution_count": 18,
      "outputs": []
    },
    {
      "cell_type": "code",
      "source": [
        "def k_nearest_neighbor_search(input_sentence, k=10):\n",
        "    # Convert the input sentence to embeddings\n",
        "    sentence_embedding = use_model([input_sentence]).numpy().astype('float32')\n",
        "\n",
        "    # Perform k-NN search\n",
        "    distances, indices = index.search(sentence_embedding, k)\n",
        "\n",
        "    # Retrieve and return the metadata and distances of the k-nearest documents as a list of tuples\n",
        "    # nearest_documents = [(documents[i].metadata, distances[0][j]) for j, i in enumerate(indices[0])] # This returns KNN documents along with distances\n",
        "\n",
        "    # Find the minimum distance\n",
        "    min_distance = np.min(distances[0])\n",
        "    # Retrieve documents with the minimum distance\n",
        "    nearest_documents = [documents[i].metadata.get('source') for j, i in enumerate(indices[0]) if distances[0][j] == min_distance] # This returns a list nearest distance document.\n",
        "    nearest_documents = list(set(nearest_documents))\n",
        "\n",
        "    return nearest_documents"
      ],
      "metadata": {
        "id": "Jhkd1vN3TWo8"
      },
      "execution_count": 23,
      "outputs": []
    },
    {
      "cell_type": "code",
      "source": [
        "# Example usage\n",
        "input_sentence = \"I'm having trouble logging into my account\"\n",
        "nearest_documents_metadata = k_nearest_neighbor_search(input_sentence, k=10)\n",
        "\n",
        "# Print the metadata of the nearest documents\n",
        "for metadata in nearest_documents_metadata:\n",
        "    print(metadata)"
      ],
      "metadata": {
        "colab": {
          "base_uri": "https://localhost:8080/"
        },
        "id": "rCh9SbRqT_y7",
        "outputId": "f360f3b3-bdda-412f-bc87-e3a935059ad2"
      },
      "execution_count": 24,
      "outputs": [
        {
          "output_type": "stream",
          "name": "stdout",
          "text": [
            "Support Team\n"
          ]
        }
      ]
    },
    {
      "cell_type": "code",
      "source": [
        "from sklearn.metrics import classification_report\n",
        "\n",
        "# Predict the class for each instance in X_test\n",
        "y_pred = [k_nearest_neighbor_search(x) for x in X_test]\n",
        "\n",
        "# Generate the classification report\n",
        "print(classification_report(y_test, y_pred))"
      ],
      "metadata": {
        "colab": {
          "base_uri": "https://localhost:8080/"
        },
        "id": "M2TAYNiJUA86",
        "outputId": "13156df6-cf95-4d6f-aadc-2b9032d6ea54"
      },
      "execution_count": 25,
      "outputs": [
        {
          "output_type": "stream",
          "name": "stdout",
          "text": [
            "                          precision    recall  f1-score   support\n",
            "\n",
            "            Finance Team       0.98      0.95      0.96        42\n",
            "Product Development Team       0.84      0.88      0.86        49\n",
            "            Support Team       0.83      0.81      0.82        47\n",
            "\n",
            "                accuracy                           0.88       138\n",
            "               macro avg       0.88      0.88      0.88       138\n",
            "            weighted avg       0.88      0.88      0.88       138\n",
            "\n"
          ]
        }
      ]
    },
    {
      "cell_type": "code",
      "source": [],
      "metadata": {
        "id": "qkVERSF6UM8d"
      },
      "execution_count": null,
      "outputs": []
    }
  ]
}